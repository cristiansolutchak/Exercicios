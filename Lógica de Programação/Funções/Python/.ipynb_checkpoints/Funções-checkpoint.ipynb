{
 "cells": [
  {
   "cell_type": "markdown",
   "metadata": {},
   "source": [
    "# Exercícios sobre funções\n",
    "\n",
    "Nesse notebook vamos resolver diversos exercícios que tem como objetivo principal mostrar o funcionamento das funções. É claro que existem funções para tudo no python que já foram implementadas pela comunidade, no entanto, meu objetivo aqui é fazer você praticar um pouco da lógica e também praticar o isolamento de trechos do seu código em funções menores.\n",
    "\n",
    "Fique à vontade para resolver os exercícios do seu jeito!\n",
    "\n",
    "Cada exercício pode ser resolvido de uma forma muito particular, ou seja, o raciocínio usado pode ser muito pessoal. Portanto, apesar de colocarmos várias soluções aqui, você poderá criar sua própria versão da resolução e praticar.\n",
    "\n",
    "---\n",
    "\n",
    "## pré-requisito para resolver os exercícios\n",
    "\n",
    "Para resolver esses exercícios você precisará compreender no mínimo alguns conceitos da programação, são eles:\n",
    "- Como declarar variáveis\n",
    "- Como atribuir valores para variáveis\n",
    "- Como funcionam os tipos de dados de cada variável (inteiro, string, etc)\n",
    "- Como realizar o input de dados usando o teclado (input)\n",
    "- Como realizar a saída de dados usando o terminal (print)\n",
    "- O que são e como usar os conectores lógicos (and, or)\n",
    "- Compreender o que são e como usar condicionais (IF e Else)\n",
    "- Laços de repetição (for e while)\n",
    "- Listas, tuplas, matrizes\n",
    "- Como declarar e usar funções no python (def, return, parâmetros)\n",
    "\n",
    "Caso você não conheça algum desses assuntos, pare um pouco e dê uma revisada no conteúdo antes de prosseguir.\n",
    "\n",
    "---\n",
    "\n",
    "## Quantos exercicios eu preciso resolver?\n",
    "\n",
    "Isso é muito pessoal, cada um possui seu nível de \"saturação\". Deixe-me explicar isso melhor...\n",
    "\n",
    "Ao resolver esses exercícios, chega um determinado momento que eles se tornam quase todos muito semelhantes e isso torna sua resolução um pouco \"chata\".\n",
    "\n",
    "P: Então, preciso resolver todos os exercícios? \n",
    "R: Acredito que não... resolva os exercícios apenas até você mesmo se convencer que realmente compreendeu o assunto e que não há mais nada de novo sendo adicionado.\n",
    "\n",
    "---\n"
   ]
  },
  {
   "cell_type": "markdown",
   "metadata": {},
   "source": [
    "1- Faça uma função que recebe por parâmetro o raio de uma esfera e calcula o seu volume (v = 4/3 * Pi * R^3) ."
   ]
  },
  {
   "cell_type": "code",
   "execution_count": null,
   "metadata": {},
   "outputs": [],
   "source": [
    "def volume_esfera(raio):\n",
    "    return (4*3.14*(raio*raio*raio))/3\n",
    "\n",
    "print(volume_esfera(4))"
   ]
  },
  {
   "cell_type": "markdown",
   "metadata": {},
   "source": [
    "2- Escreva um procedimento que recebe as 3 notas de um aluno por parâmetro e uma letra. Se a letra for A o procedimento calcula a média aritmética das notas do aluno, se for P, a sua média ponderada (pesos: 5, 3 e 2) e se for H, a sua média harmônica. A média calculada também deve retornar por parâmetro."
   ]
  },
  {
   "cell_type": "code",
   "execution_count": null,
   "metadata": {},
   "outputs": [],
   "source": [
    "def calcula_media(nota1, nota2, nota3, tipo_media):\n",
    "    if(tipo_media == \"A\"):\n",
    "        return (nota1+nota2+nota3)/3\n",
    "    elif(tipo_media == \"P\"):\n",
    "        return (nota1 * 5 + nota2 * 3 + nota3 * 2)/ 3+5+2\n",
    "    elif(tipo_media == \"H\"):\n",
    "        return 3/(1/nota1 + 1/nota2 + 1/nota3)\n",
    "    else:\n",
    "        return \"opção de tipo média errada\"\n",
    "    \n",
    "print(\"media aritmética:\", calcula_media(6,4,5,\"A\"))\n",
    "print(\"media ponderada:\", calcula_media(6,4,5,\"P\"))\n",
    "print(\"media harmônica:\", calcula_media(6,4,5,\"H\"))"
   ]
  },
  {
   "cell_type": "markdown",
   "metadata": {},
   "source": [
    "3- Faça uma função que recebe por parâmetro um valor inteiro e positivo e retorna o valor lógico Verdadeiro caso o valor seja primo e Falso em caso contrário."
   ]
  },
  {
   "cell_type": "code",
   "execution_count": null,
   "metadata": {},
   "outputs": [],
   "source": [
    "def is_primo(numero):\n",
    "    for i in range(numero-1,1,-1):\n",
    "        if(numero % i == 0):\n",
    "            return False\n",
    "    return True\n",
    "\n",
    "print(is_primo(20))\n",
    "print(is_primo(7))"
   ]
  },
  {
   "cell_type": "markdown",
   "metadata": {},
   "source": [
    "4 - Faça um procedimento que recebe por parâmetro os valores necessário para o cálculo da fórmula de báskara e retorna, também por parâmetro, as suas raízes, caso seja possível calcular."
   ]
  },
  {
   "cell_type": "code",
   "execution_count": null,
   "metadata": {},
   "outputs": [],
   "source": [
    "import math\n",
    "\n",
    "def baskara(a,b,c):\n",
    "    delta = math.sqrt((b*b)-(4*a*c))\n",
    "    print(delta)\n",
    "    x1 = ((b*-1) + delta)/2*a\n",
    "    x2 = ((b*-1) - delta)/2*a\n",
    "    lista = [x1,x2]\n",
    "    return lista\n",
    "\n",
    "print(baskara(1,-5,6))"
   ]
  },
  {
   "cell_type": "markdown",
   "metadata": {},
   "source": [
    "5. Faça uma função que recebe por parâmetro o tempo de trabalho diário de uma fábrica expressa em segundos e retorna também por parâmetro esse tempo em horas, minutos e segundos."
   ]
  },
  {
   "cell_type": "code",
   "execution_count": null,
   "metadata": {},
   "outputs": [],
   "source": [
    "def segParaHoras(segs):\n",
    "    horas = segs / 60 * 60\n",
    "    restoMin = segs % 60 * 60\n",
    "    segs = restoMin / 60\n",
    "    \n",
    "    print(horas,restoMin,segs)\n",
    "    \n",
    "segParaHoras(17560)"
   ]
  },
  {
   "cell_type": "markdown",
   "metadata": {},
   "source": [
    "6- Faça uma função que recebe a idade de uma pessoa em anos, meses e dias e retorna essa idade expressa em dias."
   ]
  },
  {
   "cell_type": "code",
   "execution_count": null,
   "metadata": {},
   "outputs": [],
   "source": [
    "def calculaIdadeEmDias(anos, meses, dias):\n",
    "    anosEmDias = anos * 12 * 30\n",
    "    mesesEmDias = meses * 30\n",
    "    return anosEmDias + mesesEmDias + dias"
   ]
  },
  {
   "cell_type": "markdown",
   "metadata": {},
   "source": [
    "7- Faça uma função que verifique se um valor é perfeito ou não. Um valor é dito perfeito quando ele é igual a soma dos seus divisores excetuando ele próprio. (Ex: 6 é perfeito, 6 = 1 + 2 + 3, que são seus divisores). A função deve retornar um valor booleano."
   ]
  },
  {
   "cell_type": "code",
   "execution_count": 26,
   "metadata": {},
   "outputs": [
    {
     "name": "stdout",
     "output_type": "stream",
     "text": [
      "6\n",
      "28\n",
      "496\n",
      "8128\n"
     ]
    }
   ],
   "source": [
    "def verificaValorPerfeito(val):\n",
    "    divisores = []\n",
    "    for i in range(1,val):\n",
    "        if val % i == 0:\n",
    "            divisores.append(i)\n",
    "\n",
    "    #print(\"a\",val,divisores)\n",
    "    if sum(divisores) == val:\n",
    "        return True\n",
    "    else:\n",
    "        return False\n",
    "        \n",
    "for a in range(1,10000):\n",
    "    if(verificaValorPerfeito(a)):\n",
    "        print(a)"
   ]
  },
  {
   "cell_type": "markdown",
   "metadata": {},
   "source": [
    "8- Faça um procedimento que recebe a idade de um nadador por parâmetro e retorna , também por parâmetro, a categoria desse nadador de acordo com a tabela abaixo:  \n",
    "\n",
    "| Idade       | Categoria  |\n",
    "|-------------|------------|\n",
    "| 5 a 7 anos  | Infantil A |\n",
    "| 8 a 10 anos | Infantil B |\n",
    "| 11-13 anos  | Juvenil A  |\n",
    "| 14-17 anos  | Juvenil B  |\n",
    "| > 18 anos   | Adulto     |"
   ]
  },
  {
   "cell_type": "code",
   "execution_count": 30,
   "metadata": {},
   "outputs": [
    {
     "name": "stdout",
     "output_type": "stream",
     "text": [
      "Infantil A\n",
      "Infantil B\n",
      "Juvenil A\n",
      "Juvenil B\n",
      "Adulto\n"
     ]
    }
   ],
   "source": [
    "def classificarNadador(idade):\n",
    "    if idade >= 5 and idade <= 7:\n",
    "        print(\"Infantil A\")\n",
    "    elif idade >= 8 and idade <= 10:\n",
    "        print(\"Infantil B\")\n",
    "    elif idade >= 11 and idade <= 13:\n",
    "        print(\"Juvenil A\")\n",
    "    elif idade >= 14 and idade <= 17:\n",
    "        print(\"Juvenil B\")\n",
    "    elif idade > 18:\n",
    "        print(\"Adulto\")\n",
    "\n",
    "classificarNadador(5)\n",
    "classificarNadador(9)\n",
    "classificarNadador(12)\n",
    "classificarNadador(15)\n",
    "classificarNadador(50)"
   ]
  },
  {
   "cell_type": "markdown",
   "metadata": {},
   "source": [
    "9- Faça uma função que recebe um valor inteiro e verifica se o valor é positivo ou negativo. A função deve voltar uma string escrito \"positivo\" ou \"negativo\""
   ]
  },
  {
   "cell_type": "code",
   "execution_count": 33,
   "metadata": {},
   "outputs": [
    {
     "name": "stdout",
     "output_type": "stream",
     "text": [
      "positivo\n",
      "negativo\n"
     ]
    }
   ],
   "source": [
    "def verificaSinal(val):\n",
    "    if val > 0:\n",
    "        return \"positivo\"\n",
    "    elif val < 0:\n",
    "        return \"negativo\"\n",
    "\n",
    "print(verificaSinal(3))\n",
    "print(verificaSinal(-1))"
   ]
  },
  {
   "cell_type": "markdown",
   "metadata": {},
   "source": [
    "10- Faça uma função que recebe um valor inteiro e verifica se o valor é par ou ímpar. A função deve retornar uma string com \"par\" ou \"impar\" "
   ]
  },
  {
   "cell_type": "code",
   "execution_count": 34,
   "metadata": {},
   "outputs": [
    {
     "name": "stdout",
     "output_type": "stream",
     "text": [
      "par\n",
      "impar\n"
     ]
    }
   ],
   "source": [
    "def verificaParOuImpar(val):\n",
    "    if val % 2 == 0:\n",
    "        return \"par\"\n",
    "    else:\n",
    "        return \"impar\"\n",
    "    \n",
    "print(verificaParOuImpar(4))\n",
    "print(verificaParOuImpar(5))"
   ]
  },
  {
   "cell_type": "markdown",
   "metadata": {},
   "source": [
    " 11- Faça uma função que recebe a média final de um aluno por parãmetro e retorna o seu conceito, conforme a tabela abaixo:\n",
    " \n",
    "|      Nota     | Conceito |\n",
    "|:-------------:|:--------:|\n",
    "|  de 0,0 a 4,9 |     D    |\n",
    "|  de 5,0 a 6,9 |     C    |\n",
    "|  de 7,0 a 8,9 |     B    |\n",
    "| de 9,0 a 10,0 |     A    |"
   ]
  },
  {
   "cell_type": "code",
   "execution_count": 36,
   "metadata": {},
   "outputs": [
    {
     "name": "stdout",
     "output_type": "stream",
     "text": [
      "D\n",
      "C\n",
      "B\n",
      "A\n"
     ]
    }
   ],
   "source": [
    "def calcularConceito(media):\n",
    "    if media > 0 and media < 4.9:\n",
    "        return \"D\"\n",
    "    elif media > 5 and media < 6.9:\n",
    "        return \"C\"\n",
    "    elif media > 7 and media < 8.9:\n",
    "        return \"B\"\n",
    "    elif media > 9 and media < 10:\n",
    "        return \"A\"\n",
    "    \n",
    "print(calcularConceito(4.2))\n",
    "print(calcularConceito(6.2))\n",
    "print(calcularConceito(8.2))\n",
    "print(calcularConceito(9.2))"
   ]
  },
  {
   "cell_type": "markdown",
   "metadata": {},
   "source": [
    " 12- Faça uma função que recebe, por parâmetro, a altura (alt) e o sexo de uma pessoa e retorna o seu peso ideal. \n",
    " Para homens, calcular o peso ideal usando a fórmula peso ideal = 72.7 x alt - 58 e, para mulheres, \n",
    " peso ideal = 62.1 x alt - 44.7.\n"
   ]
  },
  {
   "cell_type": "code",
   "execution_count": 38,
   "metadata": {},
   "outputs": [
    {
     "data": {
      "text/plain": [
       "75.768"
      ]
     },
     "execution_count": 38,
     "metadata": {},
     "output_type": "execute_result"
    }
   ],
   "source": [
    "def calculaPesoIdeal(alt, gender):\n",
    "    if gender == \"M\":\n",
    "        return 72.7 * alt - 58\n",
    "    elif gender == \"F\":\n",
    "        return 62.1 * alt - 44.7\n",
    "\n",
    "calculaPesoIdeal(1.84,\"M\")\n",
    "        "
   ]
  },
  {
   "cell_type": "markdown",
   "metadata": {},
   "source": [
    "13- Faça um procedimento que recebe 3 valores inteiros por parâmetro e retorna-os ordenados em ordem crescente."
   ]
  },
  {
   "cell_type": "code",
   "execution_count": 59,
   "metadata": {},
   "outputs": [
    {
     "name": "stdout",
     "output_type": "stream",
     "text": [
      "4 13 42\n"
     ]
    }
   ],
   "source": [
    "def ordenaValores(a,b,c):\n",
    "    maior = 0\n",
    "    if a > b and a > c:\n",
    "        maior = a\n",
    "    elif b > a and b > c:\n",
    "        maior = b\n",
    "    elif c > a and c > b:\n",
    "        maior = c\n",
    "        \n",
    "        \n",
    "    if a < b and a < c :\n",
    "        menor = a\n",
    "    elif b < a and b < c:\n",
    "        menor = b\n",
    "    elif c < a and c < b:\n",
    "        menor = c\n",
    "        \n",
    "    \n",
    "    if (a == maior and b == menor) or (a == menor and b == maior):\n",
    "        print(menor,c,maior)\n",
    "    elif (b == maior and c == menor) or (b == menor and c == maior):\n",
    "        print(menor,a,maior)\n",
    "    elif (a == maior and c == menor) or (a == menor and c == maior):\n",
    "        print(menor,b,maior)\n",
    "\n",
    "    \n",
    "        \n",
    "ordenaValores(13,42,4)"
   ]
  },
  {
   "cell_type": "markdown",
   "metadata": {},
   "source": [
    " 14- Faça um procedimento que recebe, por parâmetro, a hora de inicio e a hora de término de um jogo, ambas subdivididas\n",
    " em 2 valores distintos: horas e minutos. O procedimento deve retornar, também por parâmetro, a duração do jogo em horas\n",
    " e minutos, considerando que o tempo máximo de duração de um jogo é de 24 horas e que o jogo pode começar em um dia e\n",
    " terminar no outro."
   ]
  },
  {
   "cell_type": "code",
   "execution_count": 69,
   "metadata": {},
   "outputs": [
    {
     "name": "stdout",
     "output_type": "stream",
     "text": [
      "[6, 40]\n"
     ]
    }
   ],
   "source": [
    "def calcularDuracao(horaInicio,horaTermino):\n",
    "    if not isinstance(horaInicio,list) or not isinstance(horaTermino,list):\n",
    "        return False\n",
    "    horas = horaTermino[0] - horaInicio[0]\n",
    "    minutos = horaTermino[1] - horaInicio[1]\n",
    "    if minutos < 0:\n",
    "        minutos = 60 - abs(minutos)\n",
    "        horas -= 1\n",
    "    return [horas,minutos]\n",
    "        \n",
    "print(calcularDuracao([13,30],[20,10]))\n",
    "    "
   ]
  },
  {
   "cell_type": "markdown",
   "metadata": {},
   "source": [
    " 15- Escreva um procedimento que recebes 3 valores reais X, Y e Z e que verifique se esses valores podem ser \n",
    " os comprimentos dos lados de um triângulo e, neste caso, retornar qual o tipo de triângulo formado. \n",
    " Para que X, Y e Z formem um triângulo é necessário que a seguinte propriedade seja satisfeita: o \n",
    " comprimento de cada lado de um triângulo é menor do que a soma do comprimento dos outros dois lados.\n",
    " O procedimento deve identificar o tipo de triângulo formado observando as seguintes definições:\n",
    "\n",
    " - Triângulo Equilátero: os comprimentos dos 3 lados são iguais.\n",
    " - Triângulo Isósceles: os comprimentos de 2 lados são iguais.\n",
    " - Triângulo Escaleno: os comprimentos dos 3 lados são diferentes."
   ]
  },
  {
   "cell_type": "code",
   "execution_count": 75,
   "metadata": {},
   "outputs": [
    {
     "name": "stdout",
     "output_type": "stream",
     "text": [
      "isoceles\n"
     ]
    }
   ],
   "source": [
    "def verificaTriangulo(X,Y,Z):\n",
    "    if Z < X + Y  and X < Y + Z and Y < X + Z :\n",
    "        if X == Y and Y == Z:\n",
    "            print (\"Equilatero\")\n",
    "        elif (X == Y and X != Z) or X == Z and Y != X:\n",
    "            print (\"isoceles\")\n",
    "        else:\n",
    "            print (\"Escaleno\")\n",
    "            \n",
    "            \n",
    "verificaTriangulo(4,4,5)"
   ]
  },
  {
   "cell_type": "markdown",
   "metadata": {},
   "source": [
    "16- A prefeitura de uma cidade fez uma pesquisa entre os seus habitantes, coletando dados sobre o salário e número de filhos. Faça um procedimento que leia esses dados para um número não determinado de pessoas e retorne a  média de salário da população, a média do número de filhos, o maior salário e o percentual de pessoas com  salário até R$350,00."
   ]
  },
  {
   "cell_type": "code",
   "execution_count": null,
   "metadata": {},
   "outputs": [],
   "source": [
    "def coletarDados(numeroDePessoas):\n",
    "    somaSalario = 0\n",
    "    somaFilhos = 0 \n",
    "    maiorSalario = 0 \n",
    "    ate350 = 0 \n",
    "    for i in range(0,numeroDePessoas):\n",
    "        salario = float(input(str(i+1)+\") Digite o salário do indivíduo: \"))\n",
    "        filhos = int(input(str(i+1)+ \") Digite a quantidade de filhos do indivíduo: \"))\n",
    "        somaSalario += salario\n",
    "        somaFilhos += filhos\n",
    "        if(maiorSalario < salario):\n",
    "            maiorSalario = salario\n",
    "        if(salario <= 350):\n",
    "            ate350 += 1\n",
    "            \n",
    "    return [somaSalario/numeroDePessoas, somaFilhos/numeroDePessoas, maiorSalario, ate350/numeroDePessoas]\n",
    "\n",
    "\n",
    "print(coletarDados(3))\n"
   ]
  },
  {
   "cell_type": "markdown",
   "metadata": {},
   "source": [
    "17- Faça uma função que leia um número não determinado de valores positivos e retorna a média aritmética dos mesmos."
   ]
  },
  {
   "cell_type": "code",
   "execution_count": 77,
   "metadata": {},
   "outputs": [
    {
     "name": "stdout",
     "output_type": "stream",
     "text": [
      "Digite um numero5\n",
      "1- sair | 2- Continuar2\n",
      "Digite um numero8\n",
      "1- sair | 2- Continuar2\n",
      "Digite um numero4\n",
      "1- sair | 2- Continuar1\n",
      "média aritmetica: 5.666666666666667\n"
     ]
    }
   ],
   "source": [
    "def mediaAritmetica():\n",
    "    numeros = []\n",
    "    while(True):\n",
    "        num = int(input(\"Digite um numero\"))\n",
    "        numeros.append(num)\n",
    "        op = input(\"1- sair | 2- Continuar\")\n",
    "        if(op == \"1\"):\n",
    "            break\n",
    "    soma = 0\n",
    "    for i in numeros:\n",
    "        soma += i\n",
    "    print(\"média aritmetica:\", soma/len(numeros))\n",
    "    \n",
    "mediaAritmetica()"
   ]
  },
  {
   "cell_type": "markdown",
   "metadata": {},
   "source": [
    "18- Faça uma função que receba um valor inteiro e positivo e calcula o seu fatorial."
   ]
  },
  {
   "cell_type": "code",
   "execution_count": 87,
   "metadata": {},
   "outputs": [
    {
     "name": "stdout",
     "output_type": "stream",
     "text": [
      "120\n"
     ]
    }
   ],
   "source": [
    "def fatorial(val):\n",
    "    retorno = 1\n",
    "    for i in range(1, val):\n",
    "        retorno += retorno * i \n",
    "    return retorno\n",
    "        \n",
    "print(fatorial(5))"
   ]
  },
  {
   "cell_type": "markdown",
   "metadata": {},
   "source": [
    "19- Faça um procedimento que lê 50 valores inteiros e retorna o maior e o menor deles."
   ]
  },
  {
   "cell_type": "code",
   "execution_count": 96,
   "metadata": {},
   "outputs": [
    {
     "name": "stdout",
     "output_type": "stream",
     "text": [
      "Digite um número5\n",
      "False\n",
      "Digite um número4\n",
      "False\n",
      "entrei\n",
      "Digite um número8\n",
      "False\n",
      "Digite um número-1\n",
      "True\n",
      "maior 8 menor 4\n"
     ]
    }
   ],
   "source": [
    "def mostrarMaior():\n",
    "    maior = 0\n",
    "    menor = 10000\n",
    "    num = -2\n",
    "    while (num != -1):\n",
    "        num = int(input(\"Digite um número\"))\n",
    "        print(num == -1)\n",
    "        if maior < num:\n",
    "            maior = num\n",
    "        elif menor > num and num != -1:\n",
    "            menor = num\n",
    "    print (\"maior\", maior, \"menor\", menor)\n",
    "    \n",
    "mostrarMaior()"
   ]
  },
  {
   "cell_type": "markdown",
   "metadata": {},
   "source": [
    "20- Faça um procedimento que recebe, por parâmetro, um valor N e calcula e escreve a tabuada de 1 até N. Mostre a tabuada na forma:\n",
    "```plaintext\n",
    " 1 x N = N\n",
    " 2 x N = 2N\n",
    " ...\n",
    " N x N = N2\n",
    " ```"
   ]
  },
  {
   "cell_type": "code",
   "execution_count": 99,
   "metadata": {},
   "outputs": [
    {
     "name": "stdout",
     "output_type": "stream",
     "text": [
      "5 x 0 = 0\n",
      "5 x 1 = 5\n",
      "5 x 2 = 10\n",
      "5 x 3 = 15\n",
      "5 x 4 = 20\n",
      "5 x 5 = 25\n",
      "5 x 6 = 30\n",
      "5 x 7 = 35\n",
      "5 x 8 = 40\n",
      "5 x 9 = 45\n"
     ]
    }
   ],
   "source": [
    "def tabuada(num):\n",
    "    for i in range(0,10):\n",
    "        print(num, \"x\", i, \"=\", num*i)\n",
    "        \n",
    "tabuada(5)"
   ]
  },
  {
   "cell_type": "markdown",
   "metadata": {},
   "source": [
    "21- Faça uma função que recebe, por parâmetro, um valor inteiro e positivo e retorna o número de divisores desse valor."
   ]
  },
  {
   "cell_type": "code",
   "execution_count": 103,
   "metadata": {},
   "outputs": [
    {
     "name": "stdout",
     "output_type": "stream",
     "text": [
      "3\n"
     ]
    }
   ],
   "source": [
    "def divisores(val):\n",
    "    divisores = 0\n",
    "    for i in range(1, val):\n",
    "        if val % i == 0:\n",
    "            divisores += 1\n",
    "    print(divisores)\n",
    "            \n",
    "divisores(6)"
   ]
  },
  {
   "cell_type": "markdown",
   "metadata": {},
   "source": [
    "22- Escreva uma função que recebe, por parâmetro, um valor inteiro e positivo e retorna o somatório desse valor."
   ]
  },
  {
   "cell_type": "code",
   "execution_count": 105,
   "metadata": {},
   "outputs": [
    {
     "data": {
      "text/plain": [
       "15"
      ]
     },
     "execution_count": 105,
     "metadata": {},
     "output_type": "execute_result"
    }
   ],
   "source": [
    "def somatorio(val):\n",
    "    soma = 0\n",
    "    for i in range(0,val+1):\n",
    "        soma += i\n",
    "    return soma\n",
    "\n",
    "somatorio(5)"
   ]
  },
  {
   "cell_type": "markdown",
   "metadata": {},
   "source": [
    "23- Escreva uma função que recebe por parâmetro um valor inteiro e positivo N e retorna o valor de S\n",
    "\n",
    "S = 1 + ½ + 1/3 + ¼ + 1/5 + 1/N."
   ]
  },
  {
   "cell_type": "code",
   "execution_count": null,
   "metadata": {},
   "outputs": [],
   "source": []
  },
  {
   "cell_type": "markdown",
   "metadata": {},
   "source": [
    "24- Escreva uma função que recebe por parâmetro um valor inteiro e positivo N e retorna o valor de S.\n",
    "\n",
    "S = 1 + 1/1! + ½! + 1/3! + 1 /N!"
   ]
  },
  {
   "cell_type": "code",
   "execution_count": null,
   "metadata": {},
   "outputs": [],
   "source": []
  },
  {
   "cell_type": "markdown",
   "metadata": {},
   "source": [
    " 25- Escreva uma função que recebe por parâmetro um valor inteiro e positivo N e retorna o valor de S.\n",
    "\n",
    "S = 2/4 + 5/5 + 10/6 + 17/7 + 26/8 + ... +(n2+1)/(n+3)"
   ]
  },
  {
   "cell_type": "code",
   "execution_count": null,
   "metadata": {},
   "outputs": [],
   "source": []
  },
  {
   "cell_type": "markdown",
   "metadata": {},
   "source": [
    "26- Escreva uma função que calcule o valor do co-seno de x através de 20 termos da série seguinte:\n",
    "\n",
    " co-seno(x) = 1 - x2 + x4 - x6 + ....   2! 4! 6!"
   ]
  },
  {
   "cell_type": "code",
   "execution_count": null,
   "metadata": {},
   "outputs": [],
   "source": []
  },
  {
   "cell_type": "markdown",
   "metadata": {},
   "source": [
    "27- Escreva uma função que recebe, por parâmetro, dois valores X e Z e calcula e retorna Xz . \n",
    " (sem utilizar funções ou operadores de potência prontos)"
   ]
  },
  {
   "cell_type": "markdown",
   "metadata": {},
   "source": [
      "dynamic? valorMultiplicado;"
      "dynamic? validarIF;"

      "void main(){"

       " void calc (int x, int y) { "
        "  validarIF = 1;"
         " for(var i = (y - 1); i!= 0; i--){"
          "  if(validarIF == 1){"
           "   valorMultiplicado = x;"
            "  validarIF = 0;"
            "}"
            "valorMultiplicado *= x; "  
          "}"
          "print(valorMultiplicado);"
      "}"
       " calc(2, 8);"
      "}"
   ]
  }
 ],
 "metadata": {
  "kernelspec": {
   "display_name": "Python 3",
   "language": "python",
   "name": "python3"
  },
  "language_info": {
   "codemirror_mode": {
    "name": "ipython",
    "version": 3
   },
   "file_extension": ".py",
   "mimetype": "text/x-python",
   "name": "python",
   "nbconvert_exporter": "python",
   "pygments_lexer": "ipython3",
   "version": "3.8.5"
  }
 },
 "nbformat": 4,
 "nbformat_minor": 2
}
